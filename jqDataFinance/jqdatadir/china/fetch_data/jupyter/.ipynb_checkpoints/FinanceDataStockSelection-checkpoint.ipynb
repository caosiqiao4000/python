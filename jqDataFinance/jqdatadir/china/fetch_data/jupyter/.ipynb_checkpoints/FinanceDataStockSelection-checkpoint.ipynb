{
 "cells": [
  {
   "cell_type": "code",
   "execution_count": 2,
   "metadata": {
    "pycharm": {
     "is_executing": false
    }
   },
   "outputs": [
    {
     "ename": "AttributeError",
     "evalue": "type object 'FinancialIndicatorDay' has no attribute 'pb_ratio'",
     "output_type": "error",
     "traceback": [
      "\u001b[1;31m---------------------------------------------------------------------------\u001b[0m",
      "\u001b[1;31mAttributeError\u001b[0m                            Traceback (most recent call last)",
      "\u001b[1;32m<ipython-input-2-9446ed45e8d9>\u001b[0m in \u001b[0;36m<module>\u001b[1;34m\u001b[0m\n\u001b[0;32m     16\u001b[0m \u001b[1;33m\u001b[0m\u001b[0m\n\u001b[0;32m     17\u001b[0m init_filter_query = query(\n\u001b[1;32m---> 18\u001b[1;33m                             \u001b[0mvaluation\u001b[0m\u001b[1;33m.\u001b[0m\u001b[0mpe_ratio\u001b[0m\u001b[1;33m,\u001b[0m \u001b[0mindicator\u001b[0m\u001b[1;33m.\u001b[0m\u001b[0mcode\u001b[0m\u001b[1;33m,\u001b[0m \u001b[0mindicator\u001b[0m\u001b[1;33m.\u001b[0m\u001b[0mroe\u001b[0m\u001b[1;33m,\u001b[0m \u001b[0mindicator\u001b[0m\u001b[1;33m.\u001b[0m\u001b[0mroa\u001b[0m\u001b[1;33m,\u001b[0m\u001b[0mindicator\u001b[0m\u001b[1;33m.\u001b[0m\u001b[0mpb_ratio\u001b[0m\u001b[1;33m\u001b[0m\u001b[1;33m\u001b[0m\u001b[0m\n\u001b[0m\u001b[0;32m     19\u001b[0m                         \u001b[1;33m)\u001b[0m\u001b[1;33m.\u001b[0m\u001b[0mfilter\u001b[0m\u001b[1;33m(\u001b[0m\u001b[1;33m\u001b[0m\u001b[1;33m\u001b[0m\u001b[0m\n\u001b[0;32m     20\u001b[0m                             \u001b[0mindicator\u001b[0m\u001b[1;33m.\u001b[0m\u001b[0minc_return\u001b[0m \u001b[1;33m>\u001b[0m \u001b[1;36m5\u001b[0m\u001b[1;33m,\u001b[0m\u001b[1;33m\u001b[0m\u001b[1;33m\u001b[0m\u001b[0m\n",
      "\u001b[1;31mAttributeError\u001b[0m: type object 'FinancialIndicatorDay' has no attribute 'pb_ratio'"
     ]
    }
   ],
   "source": [
    "import pandas as pd\n",
    "from jqdatasdk import *  # 平台给的包，务必加载，地址：https://github.com/JoinQuant/jqdatasdk/archive/master.zip\n",
    "from jqdatadir.china.common.jqDataLogin import login\n",
    "from jqdatadir.china.common.handJqDataToFile import *\n",
    "import logging as log\n",
    "\n",
    "login()\n",
    "\n",
    "def get_stock_name(stock_code):\n",
    "    stocks_df = get_all_securities()\n",
    "    stock_name = [stocks_df.loc[c, 'display_name'] for c in stock_code]\n",
    "    return stock_name\n",
    "\n",
    "pd.set_option('display.max_columns', 100)\n",
    "pd.set_option('display.max_rows', 100)\n",
    "\n",
    "init_filter_query = query(\n",
    "                            valuation.pe_ratio, indicator.code, indicator.roe, indicator.roa,indicator.pb_ratio\n",
    "                        ).filter(\n",
    "                            indicator.inc_return > 5,\n",
    "                            indicator.roe > 10,\n",
    "                            valuation.pe_ratio > 0,\n",
    "                            income.total_operating_revenue <= 2e10,\n",
    "                            income.total_operating_revenue > 1e10\n",
    "                        ).order_by(\n",
    "                            indicator.roe.desc()\n",
    "                        ).limit(\n",
    "                            100\n",
    "                        )\n",
    "df = get_fundamentals(init_filter_query, statDate='2018')\n",
    "stocks = df['code']\n",
    "\n",
    "multi_stock_data_query = query(\n",
    "                                valuation.pe_ratio, indicator.code, indicator.roe, indicator.roa,\n",
    "                            ).filter(\n",
    "                                indicator.code.in_(stocks)                                \n",
    "                            )\n",
    "\n",
    "roe_dict = {}\n",
    "roa_dict = {}\n",
    "year_list = ['2012', '2013', '2014', '2015', '2016', '2017', '2018', '2019', '2020']\n",
    "for year in year_list:\n",
    "    df = get_fundamentals(multi_stock_data_query, statDate=year)\n",
    "    df = df.set_index('code')\n",
    "    roe_dict[year] = df['roe']\n",
    "    roa_dict[year] = df['roa']\n",
    "\n",
    "roe_df = pd.DataFrame(roe_dict)\n",
    "roe_df.index = get_stock_name(roe_df.index)\n",
    "print(roe_df)\n",
    "\n",
    "roa_df = pd.DataFrame(roa_dict)\n",
    "roa_df.index = get_stock_name(roa_df.index)\n",
    "print(roa_df)\n"
   ]
  },
  {
   "cell_type": "code",
   "execution_count": null,
   "metadata": {},
   "outputs": [],
   "source": []
  }
 ],
 "metadata": {
  "kernelspec": {
   "display_name": "Python 3",
   "language": "python",
   "name": "python3"
  },
  "language_info": {
   "codemirror_mode": {
    "name": "ipython",
    "version": 3
   },
   "file_extension": ".py",
   "mimetype": "text/x-python",
   "name": "python",
   "nbconvert_exporter": "python",
   "pygments_lexer": "ipython3",
   "version": "3.7.4"
  },
  "pycharm": {
   "stem_cell": {
    "cell_type": "raw",
    "metadata": {
     "collapsed": false
    },
    "source": []
   }
  }
 },
 "nbformat": 4,
 "nbformat_minor": 1
}
